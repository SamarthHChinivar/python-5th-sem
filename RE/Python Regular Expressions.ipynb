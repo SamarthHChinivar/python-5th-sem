{
 "cells": [
  {
   "cell_type": "code",
   "execution_count": 23,
   "metadata": {},
   "outputs": [
    {
     "name": "stdout",
     "output_type": "stream",
     "text": [
      "415-555-4242 is a phone number:\n",
      "True\n",
      "Moshi moshi is a phone number:\n",
      "False\n"
     ]
    }
   ],
   "source": [
    "#Finding Patterns of Text Without Regular Expressions\n",
    "\n",
    "def isPhoneNumber(text):\n",
    " if len(text) != 12:\n",
    "    return False\n",
    " for i in range(0, 3):\n",
    "     if not text[i].isdecimal():\n",
    "        return False\n",
    " if text[3] != '-':\n",
    "    return False\n",
    " for i in range(4, 7):\n",
    "     if not text[i].isdecimal():\n",
    "        return False\n",
    " if text[7] != '-':\n",
    "        return False\n",
    " for i in range(8, 12):\n",
    "     if not text[i].isdecimal():\n",
    "        return False\n",
    " return True\n",
    "print('415-555-4242 is a phone number:')\n",
    "print(isPhoneNumber('415-555-4243'))\n",
    "print('Moshi moshi is a phone number:')\n",
    "print(isPhoneNumber('Moshi moshi'))"
   ]
  },
  {
   "cell_type": "code",
   "execution_count": 25,
   "metadata": {},
   "outputs": [
    {
     "name": "stdout",
     "output_type": "stream",
     "text": [
      "Phone number found: 415-555-1011\n",
      "Phone number found: 415-555-9999\n",
      "Done\n"
     ]
    }
   ],
   "source": [
    "message = 'Call me at 415-555-1011 tomorrow. 415-555-9999 is my office.'\n",
    "for i in range(len(message)):  #[0:12],[1:13],[2:14]\n",
    "    chunk = message[i:i+12]\n",
    "    if isPhoneNumber(chunk):\n",
    "        print('Phone number found: ' + chunk)\n",
    "print('Done')"
   ]
  },
  {
   "cell_type": "code",
   "execution_count": 26,
   "metadata": {},
   "outputs": [
    {
     "name": "stdout",
     "output_type": "stream",
     "text": [
      "Phone number found: 415-555-4242\n"
     ]
    }
   ],
   "source": [
    "#Finding Patterns of Text with Regular Expressions\n",
    "#Creating Regex Objects    \n",
    "\n",
    "#syntax: re.search(pattern, string)\n",
    "\n",
    "import re\n",
    "phoneNumRegex = re.compile('\\d\\d\\d-\\d\\d\\d-\\d\\d\\d\\d')\n",
    "mo = phoneNumRegex.search('My number is 415-555-4242.')\n",
    "print('Phone number found: ' + mo.group())"
   ]
  },
  {
   "cell_type": "code",
   "execution_count": null,
   "metadata": {},
   "outputs": [],
   "source": [
    "#Review of Regular Expression Matching\n",
    "\n",
    "# 1.Import the regex module with import re.\n",
    "# 2. Create a Regex object with the re.compile() function.\n",
    "#(Remember to use a raw string.)\n",
    "# 3. Pass the string you want to search into the Regex object’s\n",
    "#search() method. This returns a Match object.\n",
    "# 4. Call the Match object’s group() method to return a string of the actual\n",
    "# matched text."
   ]
  },
  {
   "cell_type": "code",
   "execution_count": 19,
   "metadata": {},
   "outputs": [
    {
     "name": "stdout",
     "output_type": "stream",
     "text": [
      "415\n",
      "555-4242\n",
      "415-555-4242\n",
      "415-555-4242\n"
     ]
    }
   ],
   "source": [
    "#More Pattern Matching with Regular Expressions\n",
    "#Grouping with Parentheses\n",
    "phoneNumRegex = re.compile(r'(\\d\\d\\d)-(\\d\\d\\d-\\d\\d\\d\\d)')\n",
    "mo = phoneNumRegex.search('My number is 415-555-4242.')\n",
    "print(mo.group(1))\n",
    "print(mo.group(2))\n",
    "print(mo.group(0))\n",
    "print(mo.group())"
   ]
  },
  {
   "cell_type": "code",
   "execution_count": 7,
   "metadata": {},
   "outputs": [
    {
     "name": "stdout",
     "output_type": "stream",
     "text": [
      "415\n",
      "555-4242\n"
     ]
    }
   ],
   "source": [
    "mo.groups()\n",
    "areaCode, mainNumber = mo.groups()\n",
    "print(areaCode)\n",
    "print(mainNumber)\n"
   ]
  },
  {
   "cell_type": "code",
   "execution_count": 12,
   "metadata": {},
   "outputs": [
    {
     "name": "stdout",
     "output_type": "stream",
     "text": [
      "(415)\n",
      "555-4242\n"
     ]
    }
   ],
   "source": [
    "#parenthesis \n",
    "phoneNumRegex = re.compile(r'(\\(\\d\\d\\d\\)) (\\d\\d\\d-\\d\\d\\d\\d)')\n",
    "mo = phoneNumRegex.search('My phone number is (415) 555-4242.')\n",
    "print(mo.group(1))\n",
    "print(mo.group(2))\n"
   ]
  },
  {
   "cell_type": "code",
   "execution_count": 27,
   "metadata": {},
   "outputs": [
    {
     "ename": "AttributeError",
     "evalue": "'NoneType' object has no attribute 'group'",
     "output_type": "error",
     "traceback": [
      "\u001b[1;31m---------------------------------------------------------------------------\u001b[0m",
      "\u001b[1;31mAttributeError\u001b[0m                            Traceback (most recent call last)",
      "\u001b[1;32m<ipython-input-27-6f5d53c8fb15>\u001b[0m in \u001b[0;36m<module>\u001b[1;34m\u001b[0m\n\u001b[0;32m      3\u001b[0m \u001b[0mbatRegex\u001b[0m \u001b[1;33m=\u001b[0m \u001b[0mre\u001b[0m\u001b[1;33m.\u001b[0m\u001b[0mcompile\u001b[0m\u001b[1;33m(\u001b[0m\u001b[1;34m'Bat(man|mobile|copter|bat)'\u001b[0m\u001b[1;33m)\u001b[0m\u001b[1;33m\u001b[0m\u001b[1;33m\u001b[0m\u001b[0m\n\u001b[0;32m      4\u001b[0m \u001b[0mmo\u001b[0m \u001b[1;33m=\u001b[0m \u001b[0mbatRegex\u001b[0m\u001b[1;33m.\u001b[0m\u001b[0msearch\u001b[0m\u001b[1;33m(\u001b[0m\u001b[1;34m'mobile lost a wheel'\u001b[0m\u001b[1;33m)\u001b[0m\u001b[1;33m\u001b[0m\u001b[1;33m\u001b[0m\u001b[0m\n\u001b[1;32m----> 5\u001b[1;33m \u001b[0mprint\u001b[0m\u001b[1;33m(\u001b[0m\u001b[0mmo\u001b[0m\u001b[1;33m.\u001b[0m\u001b[0mgroup\u001b[0m\u001b[1;33m(\u001b[0m\u001b[1;33m)\u001b[0m\u001b[1;33m)\u001b[0m \u001b[1;31m# 'Batmobile'\u001b[0m\u001b[1;33m\u001b[0m\u001b[1;33m\u001b[0m\u001b[0m\n\u001b[0m\u001b[0;32m      6\u001b[0m \u001b[0mprint\u001b[0m\u001b[1;33m(\u001b[0m\u001b[0mmo\u001b[0m\u001b[1;33m.\u001b[0m\u001b[0mgroup\u001b[0m\u001b[1;33m(\u001b[0m\u001b[1;36m1\u001b[0m\u001b[1;33m)\u001b[0m\u001b[1;33m)\u001b[0m \u001b[1;31m# 'mobile'\u001b[0m\u001b[1;33m\u001b[0m\u001b[1;33m\u001b[0m\u001b[0m\n",
      "\u001b[1;31mAttributeError\u001b[0m: 'NoneType' object has no attribute 'group'"
     ]
    }
   ],
   "source": [
    "# Matching Multiple Groups with the Pipe (|)\n",
    "import re\n",
    "batRegex = re.compile('Bat(man|mobile|copter|bat)')\n",
    "mo = batRegex.search('mobile lost a wheel')\n",
    "print(mo.group()) # 'Batmobile'\n",
    "print(mo.group(1)) # 'mobile'"
   ]
  },
  {
   "cell_type": "code",
   "execution_count": 90,
   "metadata": {},
   "outputs": [
    {
     "data": {
      "text/plain": [
       "True"
      ]
     },
     "execution_count": 90,
     "metadata": {},
     "output_type": "execute_result"
    }
   ],
   "source": [
    "mo = batRegex.search('Batmotorcycle lost a wheel')\n",
    "mo == None # returns value “none”"
   ]
  },
  {
   "cell_type": "code",
   "execution_count": 92,
   "metadata": {},
   "outputs": [
    {
     "name": "stdout",
     "output_type": "stream",
     "text": [
      "Batman\n",
      "Batwoman\n"
     ]
    }
   ],
   "source": [
    "# Optional Matching with the Question Mark\n",
    "\n",
    "batRegex = re.compile(r'Bat(wo)?man')\n",
    "mo1 = batRegex.search('The Adventures of Batman')\n",
    "print(mo1.group())\n",
    "mo2 = batRegex.search('The Adventures of Batwoman')\n",
    "print(mo2.group())\n"
   ]
  },
  {
   "cell_type": "code",
   "execution_count": 98,
   "metadata": {},
   "outputs": [
    {
     "name": "stdout",
     "output_type": "stream",
     "text": [
      "415-555-4242\n",
      "555-4242\n"
     ]
    }
   ],
   "source": [
    "phoneRegex = re.compile('(\\d\\d\\d-)?\\d\\d\\d-\\d\\d\\d\\d')\n",
    "mo1 = phoneRegex.search('My number is 415-555-4242')\n",
    "print(mo1.group())\n",
    "\n",
    "mo2 = phoneRegex.search('My number is 555-4242')\n",
    "print(mo2.group())\n"
   ]
  },
  {
   "cell_type": "code",
   "execution_count": 20,
   "metadata": {},
   "outputs": [
    {
     "name": "stdout",
     "output_type": "stream",
     "text": [
      "Batman\n"
     ]
    }
   ],
   "source": [
    "# Matching Zero or More with the Star(* means “match zero or more\")\n",
    "import re\n",
    "batRegex = re.compile(r'Bat(wo)*man')\n",
    "mo1 = batRegex.search('The Adventures of Batman and Batman')\n",
    "print(mo1.group())"
   ]
  },
  {
   "cell_type": "code",
   "execution_count": 3,
   "metadata": {},
   "outputs": [
    {
     "name": "stdout",
     "output_type": "stream",
     "text": [
      "Batwoman\n"
     ]
    }
   ],
   "source": [
    "import re\n",
    "batRegex = re.compile(r'Bat(wo)+man')\n",
    "mo2 = batRegex.search('The Adventures of Batwoman')\n",
    "print(mo2.group())"
   ]
  },
  {
   "cell_type": "code",
   "execution_count": 3,
   "metadata": {},
   "outputs": [
    {
     "name": "stdout",
     "output_type": "stream",
     "text": [
      "Batwowowowoman\n"
     ]
    }
   ],
   "source": [
    "import re\n",
    "batRegex = re.compile(r'Bat(wo)*man')\n",
    "mo3 = batRegex.search('The Adventures of Batwowowowoman')\n",
    "print(mo3.group())"
   ]
  },
  {
   "cell_type": "code",
   "execution_count": 2,
   "metadata": {},
   "outputs": [
    {
     "name": "stdout",
     "output_type": "stream",
     "text": [
      "Batwoman\n"
     ]
    }
   ],
   "source": [
    "#Matching One or More with the Plus \n",
    "#(+ or plus) means “match one or more.”)\n",
    "import re\n",
    "batRegex = re.compile(r'Bat(wo)+man')\n",
    "mo1 = batRegex.search('The Adventures of Batwoman')\n",
    "print(mo1.group())"
   ]
  },
  {
   "cell_type": "code",
   "execution_count": 5,
   "metadata": {},
   "outputs": [
    {
     "name": "stdout",
     "output_type": "stream",
     "text": [
      "Batwowowowoman\n"
     ]
    }
   ],
   "source": [
    "import re\n",
    "batRegex = re.compile(r'Bat(wo)+man')\n",
    "mo2 = batRegex.search('The Adventures of Batwowowowoman')\n",
    "print(mo2.group())"
   ]
  },
  {
   "cell_type": "code",
   "execution_count": 6,
   "metadata": {},
   "outputs": [
    {
     "name": "stdout",
     "output_type": "stream",
     "text": [
      "True\n"
     ]
    }
   ],
   "source": [
    "batRegex = re.compile(r'Bat(wo)+man')\n",
    "mo3 = batRegex.search('The Adventures of Batman')== None\n",
    "print(mo3)"
   ]
  },
  {
   "cell_type": "code",
   "execution_count": 7,
   "metadata": {},
   "outputs": [
    {
     "name": "stdout",
     "output_type": "stream",
     "text": [
      "HaHaHa\n"
     ]
    }
   ],
   "source": [
    "#Matching Specific Repetitions with Curly Brackets\n",
    "import re\n",
    "haRegex = re.compile(r'(Ha){3}')\n",
    "mo1 = haRegex.search('HaHaHa')\n",
    "print(mo1.group())"
   ]
  },
  {
   "cell_type": "code",
   "execution_count": 2,
   "metadata": {},
   "outputs": [
    {
     "name": "stdout",
     "output_type": "stream",
     "text": [
      "True\n"
     ]
    }
   ],
   "source": [
    "import re\n",
    "haRegex = re.compile(r'(Ha){3}')\n",
    "mo2 = haRegex.search('Ha')== None\n",
    "print(mo2)"
   ]
  },
  {
   "cell_type": "code",
   "execution_count": 1,
   "metadata": {},
   "outputs": [
    {
     "name": "stdout",
     "output_type": "stream",
     "text": [
      "HaHaHaHaHa\n"
     ]
    }
   ],
   "source": [
    "import re\n",
    "haRegex = re.compile(r'(Ha){3,5}')\n",
    "mo1 = haRegex.search('HaHaHaHaHaHaHa')\n",
    "print(mo1.group())"
   ]
  },
  {
   "cell_type": "code",
   "execution_count": 10,
   "metadata": {},
   "outputs": [
    {
     "name": "stdout",
     "output_type": "stream",
     "text": [
      "HaHaHaHaHa\n"
     ]
    }
   ],
   "source": [
    "import re\n",
    "haRegex = re.compile(r'(Ha){,5}')\n",
    "mo1 = haRegex.search('HaHaHaHaHaHaHa')\n",
    "print(mo1.group())"
   ]
  },
  {
   "cell_type": "code",
   "execution_count": 3,
   "metadata": {},
   "outputs": [
    {
     "name": "stdout",
     "output_type": "stream",
     "text": [
      "HaHaHaHaHaHaHa\n"
     ]
    }
   ],
   "source": [
    "import re\n",
    "haRegex = re.compile(r'(Ha){3,}')\n",
    "mo1 = haRegex.search('HaHaHaHaHaHaHa')\n",
    "print(mo1.group())"
   ]
  },
  {
   "cell_type": "code",
   "execution_count": 12,
   "metadata": {},
   "outputs": [],
   "source": [
    "#Greedy Quantifiers\n",
    "# + --> one or more \n",
    "# * --> zero or more\n",
    "# ? ---> Zero or one\n",
    "#{x,y} ---> x times atleast and y times at most"
   ]
  },
  {
   "cell_type": "code",
   "execution_count": 65,
   "metadata": {},
   "outputs": [
    {
     "name": "stdout",
     "output_type": "stream",
     "text": [
      "HaHaHaHaHa\n",
      "Ha\n"
     ]
    }
   ],
   "source": [
    "#Greedy and Nongreedy Matching\n",
    "\n",
    "greedyHaRegex = re.compile(r'(Ha){3,5}')\n",
    "mo1 = greedyHaRegex.search('HaHaHaHaHa')\n",
    "print(mo1.group())\n",
    "\n",
    "nongreedyHaRegex = re.compile(r'(Ha){1,5}?')\n",
    "mo2 = nongreedyHaRegex.search('Ha')\n",
    "print(mo2.group())\n"
   ]
  },
  {
   "cell_type": "code",
   "execution_count": 122,
   "metadata": {},
   "outputs": [
    {
     "name": "stdout",
     "output_type": "stream",
     "text": [
      "415-555-9999\n"
     ]
    }
   ],
   "source": [
    "#find all() method\n",
    "phoneNumRegex = re.compile(r'\\d\\d\\d-\\d\\d\\d-\\d\\d\\d\\d')\n",
    "mo = phoneNumRegex.search('Cell: 415-555-9999 Work: 212-555-0000')\n",
    "print(mo.group())"
   ]
  },
  {
   "cell_type": "code",
   "execution_count": 123,
   "metadata": {},
   "outputs": [
    {
     "data": {
      "text/plain": [
       "['415-555-9999', '212-555-0000']"
      ]
     },
     "execution_count": 123,
     "metadata": {},
     "output_type": "execute_result"
    }
   ],
   "source": [
    "phoneNumRegex = re.compile(r'\\d\\d\\d-\\d\\d\\d-\\d\\d\\d\\d') # has no groups\n",
    "phoneNumRegex.findall('Cell: 415-555-9999 Work: 212-555-0000')"
   ]
  },
  {
   "cell_type": "code",
   "execution_count": 124,
   "metadata": {},
   "outputs": [
    {
     "data": {
      "text/plain": [
       "[('415', '555', '9999'), ('212', '555', '0000')]"
      ]
     },
     "execution_count": 124,
     "metadata": {},
     "output_type": "execute_result"
    }
   ],
   "source": [
    "phoneNumRegex = re.compile(r'(\\d\\d\\d)-(\\d\\d\\d)-(\\d\\d\\d\\d)') # has groups\n",
    "phoneNumRegex.findall('Cell: 415-555-9999 Work: 212-555-0000')"
   ]
  },
  {
   "cell_type": "markdown",
   "metadata": {},
   "source": [
    "#Character Classes\n",
    "\n",
    "# \\d : a digit 0 to 9. # + --> one or more # * --> zero or more # ? ---> Zero or one \n",
    "# \\D : Any character that is not a numeric digit from 0 to 9.\n",
    "# \\s : white space (tab, space, new line, etc)\n",
    "# \\S : non-white space  Any character that is not a space, tab, or newline.\n",
    "# \\w : alphanumeric Any letter, numeric digit, or the underscore character.\n",
    "# \\W : non-alphanumeric Any character that is not a letter, numeric digit, or the underscore character."
   ]
  },
  {
   "cell_type": "code",
   "execution_count": 5,
   "metadata": {},
   "outputs": [
    {
     "data": {
      "text/plain": [
       "['12 drummers',\n",
       " '11 pipers',\n",
       " '10 lords',\n",
       " '9 ladies',\n",
       " '8 maids',\n",
       " '7 swans',\n",
       " '6 geese',\n",
       " '5 rings',\n",
       " '4 birds',\n",
       " '3 hens',\n",
       " '2 doves',\n",
       " '1 partridge']"
      ]
     },
     "execution_count": 5,
     "metadata": {},
     "output_type": "execute_result"
    }
   ],
   "source": [
    "xmasRegex = re.compile('\\d+\\s\\w+')\n",
    "xmasRegex.findall('12 drummers, 11 pipers, 10 lords, 9 ladies, 8 maids,  7 swans, 6 geese, 5 rings, 4 birds, 3 hens, 2 doves, 1 partridge')"
   ]
  },
  {
   "cell_type": "code",
   "execution_count": 129,
   "metadata": {},
   "outputs": [
    {
     "data": {
      "text/plain": [
       "['o', 'o', 'o', 'e', 'a', 'a', 'o', 'o', 'A', 'O', 'O']"
      ]
     },
     "execution_count": 129,
     "metadata": {},
     "output_type": "execute_result"
    }
   ],
   "source": [
    "#Making Your Own Character Classes\n",
    "\n",
    "vowelRegex = re.compile('[aeiouAEIOU]')\n",
    "vowelRegex.findall('RoboCop eats baby food. BABY FOOD.')"
   ]
  },
  {
   "cell_type": "code",
   "execution_count": 131,
   "metadata": {},
   "outputs": [
    {
     "data": {
      "text/plain": [
       "['R',\n",
       " 'b',\n",
       " 'C',\n",
       " 'p',\n",
       " ' ',\n",
       " 't',\n",
       " 's',\n",
       " ' ',\n",
       " 'b',\n",
       " 'b',\n",
       " 'y',\n",
       " ' ',\n",
       " 'f',\n",
       " 'd',\n",
       " '.',\n",
       " ' ',\n",
       " 'B',\n",
       " 'B',\n",
       " 'Y',\n",
       " ' ',\n",
       " 'F',\n",
       " 'D',\n",
       " '.']"
      ]
     },
     "execution_count": 131,
     "metadata": {},
     "output_type": "execute_result"
    }
   ],
   "source": [
    "consonantRegex = re.compile('[^aeiouAEIOU]')\n",
    "consonantRegex.findall('RoboCop eats baby food. BABY FOOD.')"
   ]
  },
  {
   "cell_type": "code",
   "execution_count": 7,
   "metadata": {},
   "outputs": [
    {
     "name": "stdout",
     "output_type": "stream",
     "text": [
      "<re.Match object; span=(0, 5), match='Hello'>\n"
     ]
    }
   ],
   "source": [
    "#The Caret Characters\n",
    "\n",
    "beginsWithHello = re.compile('^Hello')\n",
    "print(beginsWithHello.search('Hello world!'))"
   ]
  },
  {
   "cell_type": "code",
   "execution_count": 6,
   "metadata": {},
   "outputs": [
    {
     "name": "stdout",
     "output_type": "stream",
     "text": [
      "<re.Match object; span=(15, 17), match='42'>\n",
      "True\n"
     ]
    }
   ],
   "source": [
    "#Dollar Sign Characters\n",
    "\n",
    "endsWithNumber = re.compile(r'\\d+$')\n",
    "print(endsWithNumber.search('Your number is 42'))\n",
    "print(endsWithNumber.search('Your number is forty two.') == None)\n"
   ]
  },
  {
   "cell_type": "code",
   "execution_count": 7,
   "metadata": {},
   "outputs": [
    {
     "name": "stdout",
     "output_type": "stream",
     "text": [
      "<re.Match object; span=(0, 12), match='123456789021'>\n",
      "True\n",
      "True\n"
     ]
    }
   ],
   "source": [
    "wholeStringIsNum = re.compile(r'^\\d+$')\n",
    "print(wholeStringIsNum.search('123456789021'))\n",
    "print(wholeStringIsNum.search('12345xyz67890') == None)\n",
    "print(wholeStringIsNum.search('123 4567890') == None)"
   ]
  },
  {
   "cell_type": "code",
   "execution_count": 20,
   "metadata": {},
   "outputs": [
    {
     "name": "stdout",
     "output_type": "stream",
     "text": [
      "None\n",
      "True\n",
      "False\n"
     ]
    }
   ],
   "source": [
    "wholeStringIsNum = re.compile(r'^\\d+\\s+\\d+$')\n",
    "print(wholeStringIsNum.search('123456789021'))\n",
    "print(wholeStringIsNum.search('12345xyz67890') == None)\n",
    "print(wholeStringIsNum.search('123   4567890') == None)"
   ]
  },
  {
   "cell_type": "code",
   "execution_count": 5,
   "metadata": {},
   "outputs": [
    {
     "name": "stdout",
     "output_type": "stream",
     "text": [
      "<re.Match object; span=(0, 12), match='123456789021'>\n",
      "<re.Match object; span=(0, 13), match='12345xyz67890'>\n",
      "None\n"
     ]
    }
   ],
   "source": [
    "wholeStringIsNum = re.compile(r'^\\d+\\w+\\d+$')\n",
    "print(wholeStringIsNum.search('123456789021'))\n",
    "print(wholeStringIsNum.search('12345xyz67890'))\n",
    "print(wholeStringIsNum.search('123   4567890'))"
   ]
  },
  {
   "cell_type": "code",
   "execution_count": 8,
   "metadata": {},
   "outputs": [
    {
     "data": {
      "text/plain": [
       "[' cat', ' hat', ' sat', 'flat', ' mat']"
      ]
     },
     "execution_count": 8,
     "metadata": {},
     "output_type": "execute_result"
    }
   ],
   "source": [
    "#The Wildcard Character    #except newline\n",
    "atRegex = re.compile('..at')  #preceding before one character is matched\n",
    "atRegex.findall('The cat in the hat sat on the flat mat .')"
   ]
  },
  {
   "cell_type": "code",
   "execution_count": 23,
   "metadata": {},
   "outputs": [
    {
     "name": "stdout",
     "output_type": "stream",
     "text": [
      "['But the']\n",
      "[]\n"
     ]
    }
   ],
   "source": [
    "Text = \"\"\"But then I saw no harm,and then I heard \n",
    "Each of them \"\"\"\n",
    "print(re.findall(\"But....\",Text))\n",
    "print(re.findall('heard.Each',Text))"
   ]
  },
  {
   "cell_type": "code",
   "execution_count": 34,
   "metadata": {},
   "outputs": [
    {
     "name": "stdout",
     "output_type": "stream",
     "text": [
      "['But then I saw no harm,and then I heard ', 'Each of them ']\n",
      "['But ', 'then ', 'I ', 'saw ', 'no ', 'harm,', 'and ', 'then ', 'I ', 'heard ', 'Each ', 'of ', 'them ']\n"
     ]
    }
   ],
   "source": [
    "print(re.findall('.*.',Text))\n",
    "print(re.findall('\\w*.',Text))"
   ]
  },
  {
   "cell_type": "code",
   "execution_count": 35,
   "metadata": {},
   "outputs": [
    {
     "name": "stdout",
     "output_type": "stream",
     "text": [
      "Allll\n",
      "Sweigart\n"
     ]
    }
   ],
   "source": [
    "#Matching Everything with Dot-Star\n",
    "nameRegex = re.compile('First Name: (.*) Last Name: (.*)')\n",
    "mo = nameRegex.search('First Name: Allll Last Name: Sweigart')\n",
    "print(mo.group(1))\n",
    "print(mo.group(2))"
   ]
  },
  {
   "cell_type": "code",
   "execution_count": 21,
   "metadata": {},
   "outputs": [
    {
     "name": "stdout",
     "output_type": "stream",
     "text": [
      "<To serve man>\n",
      "<To serve man> for dinner.>\n"
     ]
    }
   ],
   "source": [
    "#difference of greedy and non greedy regex\n",
    "nongreedyRegex = re.compile('<.*?>')\n",
    "mo = nongreedyRegex.search('<To serve man> for dinner.>')\n",
    "print(mo.group())\n",
    "greedyRegex = re.compile('<.*>')\n",
    "mo = greedyRegex.search('<To serve man> for dinner.>')\n",
    "print(mo.group())"
   ]
  },
  {
   "cell_type": "code",
   "execution_count": 194,
   "metadata": {},
   "outputs": [
    {
     "data": {
      "text/plain": [
       "'Serve the public trust.'"
      ]
     },
     "execution_count": 194,
     "metadata": {},
     "output_type": "execute_result"
    }
   ],
   "source": [
    "#Matching Newlines with the Dot Character\n",
    "noNewlineRegex = re.compile('.*')\n",
    "noNewlineRegex.search('Serve the public trust.\\nProtect the innocent.\\nUphold the law.').group()\n"
   ]
  },
  {
   "cell_type": "code",
   "execution_count": 38,
   "metadata": {},
   "outputs": [
    {
     "data": {
      "text/plain": [
       "'Serve the public trust.\\nProtect the innocent.\\nUphold the law.'"
      ]
     },
     "execution_count": 38,
     "metadata": {},
     "output_type": "execute_result"
    }
   ],
   "source": [
    "newlineRegex = re.compile('.*', re.DOTALL)\n",
    "newlineRegex.search('Serve the public trust.\\nProtect the innocent.\\nUphold the law.').group()"
   ]
  },
  {
   "cell_type": "code",
   "execution_count": 39,
   "metadata": {},
   "outputs": [
    {
     "data": {
      "text/plain": [
       "['Serve the public trust.\\nProtect the innocent.\\nUphold the law.', '']"
      ]
     },
     "execution_count": 39,
     "metadata": {},
     "output_type": "execute_result"
    }
   ],
   "source": [
    "newlineRegex = re.compile('.*', re.DOTALL)\n",
    "newlineRegex.findall('Serve the public trust.\\nProtect the innocent.\\nUphold the law.')"
   ]
  },
  {
   "cell_type": "code",
   "execution_count": null,
   "metadata": {},
   "outputs": [],
   "source": [
    "#Review of Regex Symbols\n",
    "\"\"\"\n",
    "The ? matches zero or one of the preceding group.\n",
    "• The * matches zero or more of the preceding group.\n",
    "• The + matches one or more of the preceding group.\n",
    "• The {n} matches exactly n of the preceding group.\n",
    "• The {n,} matches n or more of the preceding group.\n",
    "• The {,m} matches 0 to m of the preceding group.\n",
    "• The {n,m} matches at least n and at most m of the preceding group.\n",
    "• {n,m}? or *? or +? performs a nongreedy match of the preceding group.\n",
    "• ^spam means the string must begin with spam.\n",
    "• spam$ means the string must end with spam.\n",
    "• The . matches any character, except newline characters.\n",
    "• \\d, \\w, and \\s match a digit, word, or space character, respectively.\n",
    "• \\D, \\W, and \\S match anything except a digit, word, or space character,\n",
    "respectively.\n",
    "• [abc] matches any character between the brackets (such as a, b, or c).\n",
    "• [^abc] matches any character that isn’t between the brackets.\n",
    "\"\"\"\n"
   ]
  },
  {
   "cell_type": "markdown",
   "metadata": {},
   "source": [
    "^\tThis character is used to match an expression to its right at the start of a string.\n",
    "      eg: ^a-->\"aab\",\"a9c\",\"apr\",\"aaaaab\",etc\n",
    "$\tThe $sign is used to match an expression to its left at the end of a string.\n",
    "        Eg: r$ ---> \"aaabr\", \"ar\", \"r\", \"aannn9r\", etc.\n",
    "+\tThis character specifies an expression to its left for one or more times. \n",
    "        eg: s+ -->\"s\", \"ss\", \"sss\"\n",
    "?\tThis character specifies an expression to its left for 0 (Zero) or 1 (one)times \n",
    "        eg:aS? \"a\" or \"as\",but not\"ass\"\n",
    "*\tThis character specifies an expression to its left for 0 or more times\n",
    "        eg:Br*--->\"B\", \"Br\", \"Brr\", \"Brrr\"\n",
    "{x} It specifies an expression to its left for only x times.\n",
    "        eg:Sap{5}---> \"Sappppp\n",
    "{x, }\tIt specifies an expression to its left for x or more times.\n",
    "        Eg: Xb{3, }---> \"Xbbb\", \"Xbbbb\" etc\n",
    "{x,y}\tIt specifies an expression to its left, at least x times but less than y times.\n",
    "        Eg:Pr{3,6}-->  Prrrr\" and \"Prrrrr\"\n",
    "\\w\tIt is used to match the alphanumeric[0-9a-zA-Z] characters.\n",
    "\\W\tIt returns a match if the string doesn't contain any word.\n",
    "\\s\tIt returns a match if the string contains any white space character.\n",
    "\\S\tIt returns a match if the string doesn't contain any white space character"
   ]
  },
  {
   "cell_type": "code",
   "execution_count": 198,
   "metadata": {},
   "outputs": [],
   "source": [
    "#Case-Insensitive Matching\n",
    "regex1 = re.compile('RoboCop')\n",
    "regex2 = re.compile('ROBOCOP')\n",
    "regex3 = re.compile('robOcop')\n",
    "regex4 = re.compile('RobocOp')"
   ]
  },
  {
   "cell_type": "code",
   "execution_count": 202,
   "metadata": {},
   "outputs": [
    {
     "data": {
      "text/plain": [
       "'RoboCop'"
      ]
     },
     "execution_count": 202,
     "metadata": {},
     "output_type": "execute_result"
    }
   ],
   "source": [
    "robocop = re.compile(r'robocop', re.I)\n",
    "robocop.search('RoboCop is part man, part machine, all cop.').group()"
   ]
  },
  {
   "cell_type": "code",
   "execution_count": 203,
   "metadata": {},
   "outputs": [
    {
     "data": {
      "text/plain": [
       "'ROBOCOP'"
      ]
     },
     "execution_count": 203,
     "metadata": {},
     "output_type": "execute_result"
    }
   ],
   "source": [
    "robocop.search('ROBOCOP protects the innocent.').group()"
   ]
  },
  {
   "cell_type": "code",
   "execution_count": 204,
   "metadata": {},
   "outputs": [
    {
     "data": {
      "text/plain": [
       "'robocop'"
      ]
     },
     "execution_count": 204,
     "metadata": {},
     "output_type": "execute_result"
    }
   ],
   "source": [
    "robocop.search('Al, why does your programming book talk about robocop so much?').group()"
   ]
  },
  {
   "cell_type": "code",
   "execution_count": 35,
   "metadata": {},
   "outputs": [
    {
     "name": "stdout",
     "output_type": "stream",
     "text": [
      "abc abc abc abc\n",
      "I abc  you abc we all abc for ice cream and abc\n"
     ]
    }
   ],
   "source": [
    "#Substituting Strings with the sub() Method\n",
    "a_string = (\"abc xxx abc yyy\")\n",
    "new_string = re.sub(r\"xxx|yyy\", \"abc\", a_string)\n",
    "#Replace \"xxx\" or \"yyy\" with \"abc\"\n",
    "print(new_string)\n",
    "\n",
    "agentNamesRegex = (\"I scream  you scream we all scream for ice cream and scream\")\n",
    "a = re.sub(r'scream', 'abc',agentNamesRegex)\n",
    "print(a)"
   ]
  },
  {
   "cell_type": "code",
   "execution_count": 23,
   "metadata": {},
   "outputs": [
    {
     "name": "stdout",
     "output_type": "stream",
     "text": [
      "abc abc abc xxx\n"
     ]
    }
   ],
   "source": [
    "a_string = \"abc xxx abc xxx\"\n",
    "new_string = re.sub(\"xxx\", \"abc\", a_string, 1)\n",
    "#Replace first \"xxx\" with \"abc\"\n",
    "\n",
    "print(new_string)"
   ]
  },
  {
   "cell_type": "code",
   "execution_count": 212,
   "metadata": {},
   "outputs": [],
   "source": [
    "#Managing Complex Regexes\n",
    "phoneRegex = re.compile(r'((\\d{3}|\\(\\d{3}\\))?(\\s|-|\\.)?\\d{3}(\\s|-|\\.)\\d{4}(\\s*(ext|x|ext.)\\s*\\d{2,5})?)')"
   ]
  },
  {
   "cell_type": "code",
   "execution_count": 69,
   "metadata": {},
   "outputs": [],
   "source": [
    "phoneRegex = re.compile(r'''(\n",
    "(\\d{3}|\\(\\d{3}\\))?           # area code\n",
    "(\\s|-|\\.)?                  # separator\n",
    "\\d{3}                       # first 3 digits\n",
    "(\\s|-|\\.)                     # separator\n",
    "\\d{4}                       # last 4 digits\n",
    "(\\s*(ext|x|ext.)\\s*\\d{2,5})? # extension\n",
    ")''', re.VERBOSE)"
   ]
  },
  {
   "cell_type": "code",
   "execution_count": 16,
   "metadata": {},
   "outputs": [
    {
     "name": "stdout",
     "output_type": "stream",
     "text": [
      "True\n",
      "False\n"
     ]
    }
   ],
   "source": [
    "#Python program to check that a string contains \n",
    "#only a certain set of characters (in this case a-z, A-Z and 0-9)\n",
    "\n",
    "\n",
    "import re\n",
    "def is_allowed_specific_char(string):\n",
    "    charRe = re.compile(r'[^a-zA-Z0-9]')\n",
    "    string = charRe.search(string)\n",
    "    return not bool(string)\n",
    "\n",
    "print(is_allowed_specific_char(\"ABCDEFabcdef123450\")) \n",
    "print(is_allowed_specific_char(\"*&%@#!}{\"))"
   ]
  },
  {
   "cell_type": "code",
   "execution_count": 51,
   "metadata": {},
   "outputs": [
    {
     "name": "stdout",
     "output_type": "stream",
     "text": [
      "Found a match!\n",
      "Found a match!\n"
     ]
    }
   ],
   "source": [
    "# Python program that matches a string that has an a followed by one or more b's\n",
    "\n",
    "\n",
    "import re\n",
    "def text_match(text):\n",
    "        patterns = 'ab+?'\n",
    "        if re.search(patterns,  text):\n",
    "                return 'Found a match!'\n",
    "        else:\n",
    "                return('Not matched!')\n",
    "\n",
    "print(text_match(\"ab\"))\n",
    "print(text_match(\"abc\"))"
   ]
  },
  {
   "cell_type": "code",
   "execution_count": 53,
   "metadata": {},
   "outputs": [
    {
     "name": "stdout",
     "output_type": "stream",
     "text": [
      "Found a match!\n",
      "Found a match!\n"
     ]
    }
   ],
   "source": [
    "#Write a Python program that matches a string that has an a\n",
    "#followed by zero or one 'b'\n",
    "\n",
    "\n",
    "import re\n",
    "def text_match(text):\n",
    "        patterns = 'ab?'\n",
    "        if re.search(patterns,  text):\n",
    "                return 'Found a match!'\n",
    "        else:\n",
    "                return('Not matched!')\n",
    "\n",
    "print(text_match(\"ab\"))\n",
    "print(text_match(\"abc\"))\n"
   ]
  },
  {
   "cell_type": "code",
   "execution_count": 55,
   "metadata": {},
   "outputs": [
    {
     "name": "stdout",
     "output_type": "stream",
     "text": [
      "Found a match!\n",
      "Not matched!\n"
     ]
    }
   ],
   "source": [
    "#Python program that matches a string that has an a followed by three 'b'.\n",
    "import re\n",
    "def text_match(text):\n",
    "        patterns = 'ab{3}?'\n",
    "        if re.search(patterns,  text):\n",
    "                return 'Found a match!'\n",
    "        else:\n",
    "                return('Not matched!')\n",
    "\n",
    "print(text_match(\"abbb\"))\n",
    "print(text_match(\"aabc\"))"
   ]
  }
 ],
 "metadata": {
  "kernelspec": {
   "display_name": "Python 3",
   "language": "python",
   "name": "python3"
  },
  "language_info": {
   "codemirror_mode": {
    "name": "ipython",
    "version": 3
   },
   "file_extension": ".py",
   "mimetype": "text/x-python",
   "name": "python",
   "nbconvert_exporter": "python",
   "pygments_lexer": "ipython3",
   "version": "3.9.9"
  }
 },
 "nbformat": 4,
 "nbformat_minor": 4
}
